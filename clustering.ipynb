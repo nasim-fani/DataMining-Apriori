{
  "nbformat": 4,
  "nbformat_minor": 0,
  "metadata": {
    "colab": {
      "name": "clustering.ipynb",
      "provenance": [],
      "collapsed_sections": [],
      "mount_file_id": "1m31oK6cvtlb1L6kcyfmTKcEanHLYswHc",
      "authorship_tag": "ABX9TyMPLe2ctHGnQgYpqnain+KW",
      "include_colab_link": true
    },
    "kernelspec": {
      "name": "python3",
      "display_name": "Python 3"
    },
    "language_info": {
      "name": "python"
    }
  },
  "cells": [
    {
      "cell_type": "markdown",
      "metadata": {
        "id": "view-in-github",
        "colab_type": "text"
      },
      "source": [
        "<a href=\"https://colab.research.google.com/github/nasim-fani/DataMining-Clustering/blob/main/clustering.ipynb\" target=\"_parent\"><img src=\"https://colab.research.google.com/assets/colab-badge.svg\" alt=\"Open In Colab\"/></a>"
      ]
    },
    {
      "cell_type": "markdown",
      "metadata": {
        "id": "J5UolkzLSuqx"
      },
      "source": [
        "unzip datasets"
      ]
    },
    {
      "cell_type": "code",
      "metadata": {
        "id": "o8Eofie0QLJy"
      },
      "source": [
        "!pip install unrar\n",
        "!unrar x drive/MyDrive/divar_dataset.rar \n",
        "\n"
      ],
      "execution_count": null,
      "outputs": []
    },
    {
      "cell_type": "code",
      "metadata": {
        "colab": {
          "base_uri": "https://localhost:8080/"
        },
        "id": "Y7pyJVESR6ba",
        "outputId": "a2b5ae32-8f96-4ebb-bef5-ee2f80f9c725"
      },
      "source": [
        "!unrar x drive/MyDrive/digikala_dataset.rar"
      ],
      "execution_count": null,
      "outputs": [
        {
          "output_type": "stream",
          "text": [
            "\n",
            "UNRAR 5.50 freeware      Copyright (c) 1993-2017 Alexander Roshal\n",
            "\n",
            "\n",
            "Extracting from drive/MyDrive/digikala_dataset.rar\n",
            "\n",
            "\n",
            "Would you like to replace the existing file product.xlsx\n",
            "13561766 bytes, modified on 2019-03-14 19:45\n",
            "with a new one\n",
            "13561766 bytes, modified on 2019-03-14 19:45\n",
            "\n",
            "[Y]es, [N]o, [A]ll, n[E]ver, [R]ename, [Q]uit \n",
            "User break\n",
            "\n",
            "User break\n"
          ],
          "name": "stdout"
        }
      ]
    },
    {
      "cell_type": "markdown",
      "metadata": {
        "id": "YiK3eaZdVWuF"
      },
      "source": [
        "import libraries"
      ]
    },
    {
      "cell_type": "code",
      "metadata": {
        "id": "u7p8U5ySVaJK"
      },
      "source": [
        "import numpy as np\n",
        "import pandas as pd\n",
        "import xlrd\n",
        "import csv\n",
        "import matplotlib.pyplot as plt\n",
        "%matplotlib inline\n",
        "from sklearn.cluster import KMeans"
      ],
      "execution_count": null,
      "outputs": []
    },
    {
      "cell_type": "markdown",
      "metadata": {
        "id": "pueUoVW4TuF3"
      },
      "source": [
        "read datasets"
      ]
    },
    {
      "cell_type": "code",
      "metadata": {
        "colab": {
          "base_uri": "https://localhost:8080/",
          "height": 203
        },
        "id": "J1-5c74hTMkQ",
        "outputId": "c3521514-3dcf-42bc-934d-9709e5635c98"
      },
      "source": [
        "divar_data_org = pd.read_csv('divar_posts_dataset.csv')\n",
        "\n",
        "divar_data_org.head()\n",
        "\n",
        "digikala_tarikhche = pd.read_csv('orders.csv')\n",
        "\n",
        "digikala_tarikhche.head()\n"
      ],
      "execution_count": null,
      "outputs": [
        {
          "output_type": "execute_result",
          "data": {
            "text/html": [
              "<div>\n",
              "<style scoped>\n",
              "    .dataframe tbody tr th:only-of-type {\n",
              "        vertical-align: middle;\n",
              "    }\n",
              "\n",
              "    .dataframe tbody tr th {\n",
              "        vertical-align: top;\n",
              "    }\n",
              "\n",
              "    .dataframe thead th {\n",
              "        text-align: right;\n",
              "    }\n",
              "</style>\n",
              "<table border=\"1\" class=\"dataframe\">\n",
              "  <thead>\n",
              "    <tr style=\"text-align: right;\">\n",
              "      <th></th>\n",
              "      <th>ID_Order</th>\n",
              "      <th>ID_Customer</th>\n",
              "      <th>ID_Item</th>\n",
              "      <th>DateTime_CartFinalize</th>\n",
              "      <th>Amount_Gross_Order</th>\n",
              "      <th>city_name_fa</th>\n",
              "      <th>Quantity_item</th>\n",
              "    </tr>\n",
              "  </thead>\n",
              "  <tbody>\n",
              "    <tr>\n",
              "      <th>0</th>\n",
              "      <td>2714054</td>\n",
              "      <td>469662</td>\n",
              "      <td>21386</td>\n",
              "      <td>2015-10-15 08:50:56.000</td>\n",
              "      <td>597982.0</td>\n",
              "      <td>محمود آباد</td>\n",
              "      <td>1.0</td>\n",
              "    </tr>\n",
              "    <tr>\n",
              "      <th>1</th>\n",
              "      <td>11104039</td>\n",
              "      <td>3063877</td>\n",
              "      <td>248497</td>\n",
              "      <td>2018-02-11 00:29:26.000</td>\n",
              "      <td>980000.0</td>\n",
              "      <td>خرمدره</td>\n",
              "      <td>1.0</td>\n",
              "    </tr>\n",
              "    <tr>\n",
              "      <th>2</th>\n",
              "      <td>4228130</td>\n",
              "      <td>3184893</td>\n",
              "      <td>50144</td>\n",
              "      <td>2016-06-14 00:30:08.000</td>\n",
              "      <td>229358.0</td>\n",
              "      <td>قرچک</td>\n",
              "      <td>1.0</td>\n",
              "    </tr>\n",
              "    <tr>\n",
              "      <th>3</th>\n",
              "      <td>22225624</td>\n",
              "      <td>6888562</td>\n",
              "      <td>70208</td>\n",
              "      <td>2018-09-03 14:37:19.000</td>\n",
              "      <td>16514.0</td>\n",
              "      <td>قم</td>\n",
              "      <td>1.0</td>\n",
              "    </tr>\n",
              "    <tr>\n",
              "      <th>4</th>\n",
              "      <td>4068771</td>\n",
              "      <td>2533490</td>\n",
              "      <td>67627</td>\n",
              "      <td>2016-05-21 11:51:02.000</td>\n",
              "      <td>133028.0</td>\n",
              "      <td>تهران</td>\n",
              "      <td>1.0</td>\n",
              "    </tr>\n",
              "  </tbody>\n",
              "</table>\n",
              "</div>"
            ],
            "text/plain": [
              "   ID_Order  ID_Customer  ...  city_name_fa Quantity_item\n",
              "0   2714054       469662  ...    محمود آباد           1.0\n",
              "1  11104039      3063877  ...        خرمدره           1.0\n",
              "2   4228130      3184893  ...          قرچک           1.0\n",
              "3  22225624      6888562  ...            قم           1.0\n",
              "4   4068771      2533490  ...         تهران           1.0\n",
              "\n",
              "[5 rows x 7 columns]"
            ]
          },
          "metadata": {
            "tags": []
          },
          "execution_count": 16
        }
      ]
    },
    {
      "cell_type": "code",
      "metadata": {
        "colab": {
          "base_uri": "https://localhost:8080/",
          "height": 526
        },
        "id": "NV61R2jpcEGb",
        "outputId": "fbf94d61-e7ba-4b97-a8f6-63140a0d2466"
      },
      "source": [
        "divar_data_org.head()"
      ],
      "execution_count": null,
      "outputs": [
        {
          "output_type": "execute_result",
          "data": {
            "text/html": [
              "<div>\n",
              "<style scoped>\n",
              "    .dataframe tbody tr th:only-of-type {\n",
              "        vertical-align: middle;\n",
              "    }\n",
              "\n",
              "    .dataframe tbody tr th {\n",
              "        vertical-align: top;\n",
              "    }\n",
              "\n",
              "    .dataframe thead th {\n",
              "        text-align: right;\n",
              "    }\n",
              "</style>\n",
              "<table border=\"1\" class=\"dataframe\">\n",
              "  <thead>\n",
              "    <tr style=\"text-align: right;\">\n",
              "      <th></th>\n",
              "      <th>Unnamed: 0</th>\n",
              "      <th>archive_by_user</th>\n",
              "      <th>brand</th>\n",
              "      <th>cat1</th>\n",
              "      <th>cat2</th>\n",
              "      <th>cat3</th>\n",
              "      <th>city</th>\n",
              "      <th>created_at</th>\n",
              "      <th>desc</th>\n",
              "      <th>id</th>\n",
              "      <th>image_count</th>\n",
              "      <th>mileage</th>\n",
              "      <th>platform</th>\n",
              "      <th>price</th>\n",
              "      <th>title</th>\n",
              "      <th>type</th>\n",
              "      <th>year</th>\n",
              "    </tr>\n",
              "  </thead>\n",
              "  <tbody>\n",
              "    <tr>\n",
              "      <th>0</th>\n",
              "      <td>0</td>\n",
              "      <td>False</td>\n",
              "      <td>NaN</td>\n",
              "      <td>for-the-home</td>\n",
              "      <td>furniture-and-home-decore</td>\n",
              "      <td>sofa-armchair</td>\n",
              "      <td>Tehran</td>\n",
              "      <td>Tuesday 07PM</td>\n",
              "      <td>کلاسیک و شیک و استثنایی\\nچرم مالزی\\nچوب راش\\nف...</td>\n",
              "      <td>54761638662241</td>\n",
              "      <td>5</td>\n",
              "      <td>NaN</td>\n",
              "      <td>mobile</td>\n",
              "      <td>3850000</td>\n",
              "      <td>ست مبلمان و نهارخوری ٩ نفره</td>\n",
              "      <td>NaN</td>\n",
              "      <td>NaN</td>\n",
              "    </tr>\n",
              "    <tr>\n",
              "      <th>1</th>\n",
              "      <td>1</td>\n",
              "      <td>False</td>\n",
              "      <td>NaN</td>\n",
              "      <td>for-the-home</td>\n",
              "      <td>furniture-and-home-decore</td>\n",
              "      <td>antiques-and-art</td>\n",
              "      <td>Mashhad</td>\n",
              "      <td>Tuesday 07PM</td>\n",
              "      <td>سلام,یک عدد گلدون نخل سه طبقه ی سالم دارم با پ...</td>\n",
              "      <td>42727631379133</td>\n",
              "      <td>1</td>\n",
              "      <td>NaN</td>\n",
              "      <td>mobile</td>\n",
              "      <td>30000</td>\n",
              "      <td>گلدون مصنوعی نخل</td>\n",
              "      <td>NaN</td>\n",
              "      <td>NaN</td>\n",
              "    </tr>\n",
              "    <tr>\n",
              "      <th>2</th>\n",
              "      <td>2</td>\n",
              "      <td>False</td>\n",
              "      <td>NaN</td>\n",
              "      <td>vehicles</td>\n",
              "      <td>cars</td>\n",
              "      <td>heavy</td>\n",
              "      <td>Mashhad</td>\n",
              "      <td>Tuesday 07PM</td>\n",
              "      <td>سریال 43j$NUMبدون شکستگی سه حلقه لاستیک نو یک ...</td>\n",
              "      <td>63194439667302</td>\n",
              "      <td>4</td>\n",
              "      <td>NaN</td>\n",
              "      <td>mobile</td>\n",
              "      <td>-1</td>\n",
              "      <td>لودر کاتر پیلار 950</td>\n",
              "      <td>NaN</td>\n",
              "      <td>NaN</td>\n",
              "    </tr>\n",
              "    <tr>\n",
              "      <th>3</th>\n",
              "      <td>3</td>\n",
              "      <td>False</td>\n",
              "      <td>NaN</td>\n",
              "      <td>for-the-home</td>\n",
              "      <td>furniture-and-home-decore</td>\n",
              "      <td>sofa-armchair</td>\n",
              "      <td>Tehran</td>\n",
              "      <td>Tuesday 07PM</td>\n",
              "      <td>مبل راحتی هفت نفره شامل سه نفره یک عدد دونفره ...</td>\n",
              "      <td>19133025491169</td>\n",
              "      <td>4</td>\n",
              "      <td>NaN</td>\n",
              "      <td>mobile</td>\n",
              "      <td>600000</td>\n",
              "      <td>مبل راحتی هفت نفره بامیز جلو مبلی</td>\n",
              "      <td>NaN</td>\n",
              "      <td>NaN</td>\n",
              "    </tr>\n",
              "    <tr>\n",
              "      <th>4</th>\n",
              "      <td>4</td>\n",
              "      <td>False</td>\n",
              "      <td>NaN</td>\n",
              "      <td>personal</td>\n",
              "      <td>baby-and-toys</td>\n",
              "      <td>personal-toys</td>\n",
              "      <td>Karaj</td>\n",
              "      <td>Tuesday 08PM</td>\n",
              "      <td>شارژی کنترلی سویچ حمل تا 35 کیلو صندلی برای دو...</td>\n",
              "      <td>58998998335444</td>\n",
              "      <td>2</td>\n",
              "      <td>NaN</td>\n",
              "      <td>mobile</td>\n",
              "      <td>450000</td>\n",
              "      <td>ماشین شارژی</td>\n",
              "      <td>NaN</td>\n",
              "      <td>NaN</td>\n",
              "    </tr>\n",
              "  </tbody>\n",
              "</table>\n",
              "</div>"
            ],
            "text/plain": [
              "   Unnamed: 0  archive_by_user  ... type year\n",
              "0           0            False  ...  NaN  NaN\n",
              "1           1            False  ...  NaN  NaN\n",
              "2           2            False  ...  NaN  NaN\n",
              "3           3            False  ...  NaN  NaN\n",
              "4           4            False  ...  NaN  NaN\n",
              "\n",
              "[5 rows x 17 columns]"
            ]
          },
          "metadata": {
            "tags": []
          },
          "execution_count": 17
        }
      ]
    },
    {
      "cell_type": "markdown",
      "metadata": {
        "id": "msoL3dPabpTT"
      },
      "source": [
        ""
      ]
    },
    {
      "cell_type": "code",
      "metadata": {
        "colab": {
          "base_uri": "https://localhost:8080/"
        },
        "id": "xsRfbVBgbp1m",
        "outputId": "e0bb9a15-4f3e-4d92-e4cf-69f93b94cef3"
      },
      "source": [
        "cities = divar_data_org['city'].unique()\n",
        "print(cities)"
      ],
      "execution_count": null,
      "outputs": [
        {
          "output_type": "stream",
          "text": [
            "['Tehran' 'Mashhad' 'Karaj' 'Qom' 'Isfahan' 'Shiraz' 'Tabriz' 'Ahvaz'\n",
            " 'Kermanshah']\n"
          ],
          "name": "stdout"
        }
      ]
    },
    {
      "cell_type": "code",
      "metadata": {
        "colab": {
          "base_uri": "https://localhost:8080/"
        },
        "id": "t-vbJVGpqv5v",
        "outputId": "44b8b86d-e1ec-4bb6-8d1f-b55c6f30ac80"
      },
      "source": [
        "cats = divar_data_org['cat2'].unique()\n",
        "print(cats)"
      ],
      "execution_count": null,
      "outputs": [
        {
          "output_type": "stream",
          "text": [
            "['furniture-and-home-decore' 'cars' 'baby-and-toys' 'parts-accessories'\n",
            " 'utensils-and-appliances' 'clothing-and-shoes' 'mobile-tablet'\n",
            " 'childrens-clothing-and-shoe' 'game-consoles-and-video-games'\n",
            " 'audio-video' 'building-and-garden' 'jewelry-and-watches'\n",
            " 'equipments-and-machinery' 'bicycle' 'animals' nan 'batch'\n",
            " 'musical-instruments' 'health-beauty' 'motorcycles' 'computers'\n",
            " 'sport-leisure' 'book-student-literature' 'utility' 'travel-packages'\n",
            " 'hobby-collectibles' 'leisure-hobbies-toys' 'phone']\n"
          ],
          "name": "stdout"
        }
      ]
    },
    {
      "cell_type": "code",
      "metadata": {
        "id": "-B5e42UY2lHr"
      },
      "source": [
        "divar_data = divar_data_org[divar_data_org['cat2'].notna()]"
      ],
      "execution_count": null,
      "outputs": []
    },
    {
      "cell_type": "code",
      "metadata": {
        "colab": {
          "base_uri": "https://localhost:8080/",
          "height": 526
        },
        "id": "2XmhGQFV22f_",
        "outputId": "ddd02c1d-19d3-42f4-a57f-4dd03554d64e"
      },
      "source": [
        "divar_data.head()"
      ],
      "execution_count": null,
      "outputs": [
        {
          "output_type": "execute_result",
          "data": {
            "text/html": [
              "<div>\n",
              "<style scoped>\n",
              "    .dataframe tbody tr th:only-of-type {\n",
              "        vertical-align: middle;\n",
              "    }\n",
              "\n",
              "    .dataframe tbody tr th {\n",
              "        vertical-align: top;\n",
              "    }\n",
              "\n",
              "    .dataframe thead th {\n",
              "        text-align: right;\n",
              "    }\n",
              "</style>\n",
              "<table border=\"1\" class=\"dataframe\">\n",
              "  <thead>\n",
              "    <tr style=\"text-align: right;\">\n",
              "      <th></th>\n",
              "      <th>Unnamed: 0</th>\n",
              "      <th>archive_by_user</th>\n",
              "      <th>brand</th>\n",
              "      <th>cat1</th>\n",
              "      <th>cat2</th>\n",
              "      <th>cat3</th>\n",
              "      <th>city</th>\n",
              "      <th>created_at</th>\n",
              "      <th>desc</th>\n",
              "      <th>id</th>\n",
              "      <th>image_count</th>\n",
              "      <th>mileage</th>\n",
              "      <th>platform</th>\n",
              "      <th>price</th>\n",
              "      <th>title</th>\n",
              "      <th>type</th>\n",
              "      <th>year</th>\n",
              "    </tr>\n",
              "  </thead>\n",
              "  <tbody>\n",
              "    <tr>\n",
              "      <th>0</th>\n",
              "      <td>0</td>\n",
              "      <td>False</td>\n",
              "      <td>NaN</td>\n",
              "      <td>for-the-home</td>\n",
              "      <td>furniture-and-home-decore</td>\n",
              "      <td>sofa-armchair</td>\n",
              "      <td>Tehran</td>\n",
              "      <td>Tuesday 07PM</td>\n",
              "      <td>کلاسیک و شیک و استثنایی\\nچرم مالزی\\nچوب راش\\nف...</td>\n",
              "      <td>54761638662241</td>\n",
              "      <td>5</td>\n",
              "      <td>NaN</td>\n",
              "      <td>mobile</td>\n",
              "      <td>3850000</td>\n",
              "      <td>ست مبلمان و نهارخوری ٩ نفره</td>\n",
              "      <td>NaN</td>\n",
              "      <td>NaN</td>\n",
              "    </tr>\n",
              "    <tr>\n",
              "      <th>1</th>\n",
              "      <td>1</td>\n",
              "      <td>False</td>\n",
              "      <td>NaN</td>\n",
              "      <td>for-the-home</td>\n",
              "      <td>furniture-and-home-decore</td>\n",
              "      <td>antiques-and-art</td>\n",
              "      <td>Mashhad</td>\n",
              "      <td>Tuesday 07PM</td>\n",
              "      <td>سلام,یک عدد گلدون نخل سه طبقه ی سالم دارم با پ...</td>\n",
              "      <td>42727631379133</td>\n",
              "      <td>1</td>\n",
              "      <td>NaN</td>\n",
              "      <td>mobile</td>\n",
              "      <td>30000</td>\n",
              "      <td>گلدون مصنوعی نخل</td>\n",
              "      <td>NaN</td>\n",
              "      <td>NaN</td>\n",
              "    </tr>\n",
              "    <tr>\n",
              "      <th>2</th>\n",
              "      <td>2</td>\n",
              "      <td>False</td>\n",
              "      <td>NaN</td>\n",
              "      <td>vehicles</td>\n",
              "      <td>cars</td>\n",
              "      <td>heavy</td>\n",
              "      <td>Mashhad</td>\n",
              "      <td>Tuesday 07PM</td>\n",
              "      <td>سریال 43j$NUMبدون شکستگی سه حلقه لاستیک نو یک ...</td>\n",
              "      <td>63194439667302</td>\n",
              "      <td>4</td>\n",
              "      <td>NaN</td>\n",
              "      <td>mobile</td>\n",
              "      <td>-1</td>\n",
              "      <td>لودر کاتر پیلار 950</td>\n",
              "      <td>NaN</td>\n",
              "      <td>NaN</td>\n",
              "    </tr>\n",
              "    <tr>\n",
              "      <th>3</th>\n",
              "      <td>3</td>\n",
              "      <td>False</td>\n",
              "      <td>NaN</td>\n",
              "      <td>for-the-home</td>\n",
              "      <td>furniture-and-home-decore</td>\n",
              "      <td>sofa-armchair</td>\n",
              "      <td>Tehran</td>\n",
              "      <td>Tuesday 07PM</td>\n",
              "      <td>مبل راحتی هفت نفره شامل سه نفره یک عدد دونفره ...</td>\n",
              "      <td>19133025491169</td>\n",
              "      <td>4</td>\n",
              "      <td>NaN</td>\n",
              "      <td>mobile</td>\n",
              "      <td>600000</td>\n",
              "      <td>مبل راحتی هفت نفره بامیز جلو مبلی</td>\n",
              "      <td>NaN</td>\n",
              "      <td>NaN</td>\n",
              "    </tr>\n",
              "    <tr>\n",
              "      <th>4</th>\n",
              "      <td>4</td>\n",
              "      <td>False</td>\n",
              "      <td>NaN</td>\n",
              "      <td>personal</td>\n",
              "      <td>baby-and-toys</td>\n",
              "      <td>personal-toys</td>\n",
              "      <td>Karaj</td>\n",
              "      <td>Tuesday 08PM</td>\n",
              "      <td>شارژی کنترلی سویچ حمل تا 35 کیلو صندلی برای دو...</td>\n",
              "      <td>58998998335444</td>\n",
              "      <td>2</td>\n",
              "      <td>NaN</td>\n",
              "      <td>mobile</td>\n",
              "      <td>450000</td>\n",
              "      <td>ماشین شارژی</td>\n",
              "      <td>NaN</td>\n",
              "      <td>NaN</td>\n",
              "    </tr>\n",
              "  </tbody>\n",
              "</table>\n",
              "</div>"
            ],
            "text/plain": [
              "   Unnamed: 0  archive_by_user  ... type year\n",
              "0           0            False  ...  NaN  NaN\n",
              "1           1            False  ...  NaN  NaN\n",
              "2           2            False  ...  NaN  NaN\n",
              "3           3            False  ...  NaN  NaN\n",
              "4           4            False  ...  NaN  NaN\n",
              "\n",
              "[5 rows x 17 columns]"
            ]
          },
          "metadata": {
            "tags": []
          },
          "execution_count": 26
        }
      ]
    },
    {
      "cell_type": "code",
      "metadata": {
        "id": "zGo5_aHkrQ4m"
      },
      "source": [
        "vectors = np.zeros([len(cities),len(cats)])\n",
        "df = divar_data.to_dict(\"records\")"
      ],
      "execution_count": null,
      "outputs": []
    },
    {
      "cell_type": "code",
      "metadata": {
        "id": "OxcknRt5xBgZ"
      },
      "source": [
        "for row in df:\n",
        "  cat = row['cat2']\n",
        "  city = row['city']\n",
        "  cityIndex =np.where(cities == city)[0][0]\n",
        "  catIndex = np.where(cats == cat)[0][0]\n",
        "  vectors[cityIndex][catIndex]+=1\n",
        "  "
      ],
      "execution_count": null,
      "outputs": []
    },
    {
      "cell_type": "code",
      "metadata": {
        "colab": {
          "base_uri": "https://localhost:8080/"
        },
        "id": "2mGd2FHP95Cq",
        "outputId": "cd7f74f0-b13b-4b19-f73f-71676d3f286f"
      },
      "source": [
        "print(vectors)\n"
      ],
      "execution_count": null,
      "outputs": [
        {
          "output_type": "stream",
          "text": [
            "[[103579.  57455.  12142.  22268.  30122.  39389.  29402.   5311.  16232.\n",
            "   15260.   8635.   6218.  23018.   3930.  14261.      0.   4793.   3854.\n",
            "    4783.   9696.  13503.   6850.   1526.   4400.   1071.   2033.    603.\n",
            "    1193.]\n",
            " [ 27146.  16014.   2971.   7555.   8877.  16130.  11686.   3155.   3484.\n",
            "    3761.   3563.   1323.   6751.   1860.  12247.      0.   1346.      0.\n",
            "    1083.   2330.   3921.    871.    801.   1259.      0.    398.      0.\n",
            "       0.]\n",
            " [ 20359.  11541.   2157.   5552.   5644.   7359.   6522.    921.   2459.\n",
            "    2841.   1461.    693.   5342.    918.   3308.      0.    862.      0.\n",
            "     866.    951.   2556.    680.      0.    744.      0.      0.      0.\n",
            "       0.]\n",
            " [  6347.   1683.    378.   1776.   1652.   4678.   3466.    606.    970.\n",
            "     604.    524.      0.   1414.    639.   3720.      0.    629.      0.\n",
            "     378.   1279.    455.      0.    445.    359.      0.      0.      0.\n",
            "       0.]\n",
            " [ 11097.   9940.    521.   4033.   3248.   3644.   6280.      0.   2085.\n",
            "    1862.    892.    411.   4195.   1012.   6493.      0.   1003.      0.\n",
            "     623.   1974.   1476.    532.      0.    482.      0.      0.      0.\n",
            "       0.]\n",
            " [ 12298.  20072.   1663.   5903.   4089.   4725.   7040.    441.   2546.\n",
            "    2594.   1397.    906.   4180.   1332.   6430.      0.   1431.      0.\n",
            "     757.   1952.   2624.    628.    431.    531.      0.      0.      0.\n",
            "       0.]\n",
            " [  6789.   5036.      0.   2833.   1255.   4298.   4116.    577.   1168.\n",
            "     658.    604.    370.   2132.    602.   1065.      0.    735.      0.\n",
            "     381.    573.    444.    378.      0.      0.      0.      0.      0.\n",
            "       0.]\n",
            " [ 11507.   5699.    670.   3280.   3187.   3218.   4839.      0.   1915.\n",
            "    1100.   1839.    395.   1854.    990.   2391.      0.    606.      0.\n",
            "     519.    698.   1557.    435.      0.    464.      0.      0.      0.\n",
            "       0.]\n",
            " [  5323.   3003.      0.   2786.    640.   3655.   2956.    422.   1105.\n",
            "     496.      0.      0.   1215.      0.    779.      0.    372.      0.\n",
            "       0.    378.      0.      0.      0.      0.      0.      0.      0.\n",
            "       0.]]\n"
          ],
          "name": "stdout"
        }
      ]
    },
    {
      "cell_type": "markdown",
      "metadata": {
        "id": "S4kiQ5-1NxLm"
      },
      "source": [
        "choose number of clusters"
      ]
    },
    {
      "cell_type": "code",
      "metadata": {
        "colab": {
          "base_uri": "https://localhost:8080/",
          "height": 417
        },
        "id": "2E7ASXPvJyBF",
        "outputId": "545372ce-c19f-40c0-d3b3-826f69762495"
      },
      "source": [
        "SSE = []\n",
        "for cluster in range(1,8):\n",
        "    kmeans = KMeans(n_jobs = -1, n_clusters = cluster, init='k-means++')\n",
        "    kmeans.fit(vectors)\n",
        "    SSE.append(kmeans.inertia_)\n",
        "\n",
        "frame = pd.DataFrame({'Cluster':range(1,8), 'SSE':SSE})\n",
        "plt.figure(figsize=(12,6))\n",
        "plt.plot(frame['Cluster'], frame['SSE'], marker='o')\n",
        "plt.xlabel('Number of clusters')\n",
        "plt.ylabel('Inertia')"
      ],
      "execution_count": null,
      "outputs": [
        {
          "output_type": "execute_result",
          "data": {
            "text/plain": [
              "Text(0, 0.5, 'Inertia')"
            ]
          },
          "metadata": {
            "tags": []
          },
          "execution_count": 30
        },
        {
          "output_type": "display_data",
          "data": {
            "image/png": "[encoded data removed]",
            "text/plain": [
              "<Figure size 864x432 with 1 Axes>"
            ]
          },
          "metadata": {
            "tags": [],
            "needs_background": "light"
          }
        }
      ]
    },
    {
      "cell_type": "code",
      "metadata": {
        "colab": {
          "base_uri": "https://localhost:8080/"
        },
        "id": "m5OqjoeeTXDx",
        "outputId": "8765b3b4-53e5-436e-dd39-ecb299d4f937"
      },
      "source": [
        "kmeans = KMeans(n_jobs = -1, n_clusters = 4, init='k-means++')\n",
        "kmeans.fit(vectors)\n",
        "kmeans.labels_\n",
        "pred = kmeans.predict(vectors)\n",
        "kmeans.cluster_centers_\n"
      ],
      "execution_count": null,
      "outputs": [
        {
          "output_type": "execute_result",
          "data": {
            "text/plain": [
              "array([[ 14584.66666667,  13851.        ,   1447.        ,\n",
              "          5162.66666667,   4327.        ,   5242.66666667,\n",
              "          6614.        ,    454.        ,   2363.33333333,\n",
              "          2432.33333333,   1250.        ,    670.        ,\n",
              "          4572.33333333,   1087.33333333,   5410.33333333,\n",
              "             0.        ,   1098.66666667,      0.        ,\n",
              "           748.66666667,   1625.66666667,   2218.66666667,\n",
              "           613.33333333,    143.66666667,    585.66666667,\n",
              "             0.        ,      0.        ,      0.        ,\n",
              "             0.        ],\n",
              "       [103579.        ,  57455.        ,  12142.        ,\n",
              "         22268.        ,  30122.        ,  39389.        ,\n",
              "         29402.        ,   5311.        ,  16232.        ,\n",
              "         15260.        ,   8635.        ,   6218.        ,\n",
              "         23018.        ,   3930.        ,  14261.        ,\n",
              "             0.        ,   4793.        ,   3854.        ,\n",
              "          4783.        ,   9696.        ,  13503.        ,\n",
              "          6850.        ,   1526.        ,   4400.        ,\n",
              "          1071.        ,   2033.        ,    603.        ,\n",
              "          1193.        ],\n",
              "       [  7491.5       ,   3855.25      ,    262.        ,\n",
              "          2668.75      ,   1683.5       ,   3962.25      ,\n",
              "          3844.25      ,    401.25      ,   1289.5       ,\n",
              "           714.5       ,    741.75      ,    191.25      ,\n",
              "          1653.75      ,    557.75      ,   1988.75      ,\n",
              "             0.        ,    585.5       ,      0.        ,\n",
              "           319.5       ,    732.        ,    614.        ,\n",
              "           203.25      ,    111.25      ,    205.75      ,\n",
              "             0.        ,      0.        ,      0.        ,\n",
              "             0.        ],\n",
              "       [ 27146.        ,  16014.        ,   2971.        ,\n",
              "          7555.        ,   8877.        ,  16130.        ,\n",
              "         11686.        ,   3155.        ,   3484.        ,\n",
              "          3761.        ,   3563.        ,   1323.        ,\n",
              "          6751.        ,   1860.        ,  12247.        ,\n",
              "             0.        ,   1346.        ,      0.        ,\n",
              "          1083.        ,   2330.        ,   3921.        ,\n",
              "           871.        ,    801.        ,   1259.        ,\n",
              "             0.        ,    398.        ,      0.        ,\n",
              "             0.        ]])"
            ]
          },
          "metadata": {
            "tags": []
          },
          "execution_count": 31
        }
      ]
    },
    {
      "cell_type": "markdown",
      "metadata": {
        "id": "_UwXz54YOphA"
      },
      "source": [
        "final clustering results"
      ]
    },
    {
      "cell_type": "code",
      "metadata": {
        "colab": {
          "base_uri": "https://localhost:8080/"
        },
        "id": "b0tGcG-sUG_9",
        "outputId": "69e094cb-e4e1-4781-dd84-56133cbacbdc"
      },
      "source": [
        "for i in range(len(cities)):\n",
        "  print(cities[i], \"blongs to cluster :\", str(pred[i]))"
      ],
      "execution_count": null,
      "outputs": [
        {
          "output_type": "stream",
          "text": [
            "Tehran blongs to cluster : 1\n",
            "Mashhad blongs to cluster : 3\n",
            "Karaj blongs to cluster : 0\n",
            "Qom blongs to cluster : 2\n",
            "Isfahan blongs to cluster : 0\n",
            "Shiraz blongs to cluster : 0\n",
            "Tabriz blongs to cluster : 2\n",
            "Ahvaz blongs to cluster : 2\n",
            "Kermanshah blongs to cluster : 2\n"
          ],
          "name": "stdout"
        }
      ]
    },
    {
      "cell_type": "markdown",
      "metadata": {
        "id": "dDGNRB5iYZbi"
      },
      "source": [
        "\n",
        "---\n",
        "**Question 2**"
      ]
    },
    {
      "cell_type": "code",
      "metadata": {
        "colab": {
          "base_uri": "https://localhost:8080/",
          "height": 35
        },
        "id": "KS7DAeWgahBL",
        "outputId": "041911f9-6ba2-4b30-e595-9abdb133df30"
      },
      "source": [
        "digi_cities = ['تهران', 'مشهد', 'کرج', 'قم', 'اصفهان', 'شیراز', 'تبریز', 'اهواز','کرمانشاه']\n",
        "# digi_cities = pd.DataFrame( [digi_cities])\n",
        "digi_cities[0]"
      ],
      "execution_count": null,
      "outputs": [
        {
          "output_type": "execute_result",
          "data": {
            "application/vnd.google.colaboratory.intrinsic+json": {
              "type": "string"
            },
            "text/plain": [
              "'تهران'"
            ]
          },
          "metadata": {
            "tags": []
          },
          "execution_count": 33
        }
      ]
    },
    {
      "cell_type": "code",
      "metadata": {
        "colab": {
          "base_uri": "https://localhost:8080/"
        },
        "id": "TWrw642veG_i",
        "outputId": "d2083303-8c19-4d56-8b50-f430d43d37d4"
      },
      "source": [
        "# new = np.where( )\n",
        "print(len(digikala_tarikhche))\n",
        "digikala_selected = digikala_tarikhche.loc[digikala_tarikhche['city_name_fa'].isin(digi_cities)]\n",
        "len(digikala_selected)\n",
        "\n",
        "\n",
        "\n"
      ],
      "execution_count": null,
      "outputs": [
        {
          "output_type": "stream",
          "text": [
            "200000\n"
          ],
          "name": "stdout"
        },
        {
          "output_type": "execute_result",
          "data": {
            "text/plain": [
              "141900"
            ]
          },
          "metadata": {
            "tags": []
          },
          "execution_count": 34
        }
      ]
    },
    {
      "cell_type": "code",
      "metadata": {
        "colab": {
          "base_uri": "https://localhost:8080/"
        },
        "id": "8tggJiXSm--y",
        "outputId": "07db2b69-a571-469f-d0c1-d3fc60dfc3f6"
      },
      "source": [
        "digikala_tarikhche.index[2]"
      ],
      "execution_count": null,
      "outputs": [
        {
          "output_type": "execute_result",
          "data": {
            "text/plain": [
              "2"
            ]
          },
          "metadata": {
            "tags": []
          },
          "execution_count": 35
        }
      ]
    },
    {
      "cell_type": "code",
      "metadata": {
        "id": "ESSyOFALhccA"
      },
      "source": [
        "# test= digikala_tarikhche.iloc[2000:5000 , :]\n",
        "# print(len(test))\n",
        "# test.head()"
      ],
      "execution_count": null,
      "outputs": []
    },
    {
      "cell_type": "code",
      "metadata": {
        "colab": {
          "base_uri": "https://localhost:8080/",
          "height": 203
        },
        "id": "k9fmCDS6kDA_",
        "outputId": "6c4a7445-707c-4930-a653-6f9df6085d6d"
      },
      "source": [
        "digikala_tarikhche.head()"
      ],
      "execution_count": null,
      "outputs": [
        {
          "output_type": "execute_result",
          "data": {
            "text/html": [
              "<div>\n",
              "<style scoped>\n",
              "    .dataframe tbody tr th:only-of-type {\n",
              "        vertical-align: middle;\n",
              "    }\n",
              "\n",
              "    .dataframe tbody tr th {\n",
              "        vertical-align: top;\n",
              "    }\n",
              "\n",
              "    .dataframe thead th {\n",
              "        text-align: right;\n",
              "    }\n",
              "</style>\n",
              "<table border=\"1\" class=\"dataframe\">\n",
              "  <thead>\n",
              "    <tr style=\"text-align: right;\">\n",
              "      <th></th>\n",
              "      <th>ID_Order</th>\n",
              "      <th>ID_Customer</th>\n",
              "      <th>ID_Item</th>\n",
              "      <th>DateTime_CartFinalize</th>\n",
              "      <th>Amount_Gross_Order</th>\n",
              "      <th>city_name_fa</th>\n",
              "      <th>Quantity_item</th>\n",
              "    </tr>\n",
              "  </thead>\n",
              "  <tbody>\n",
              "    <tr>\n",
              "      <th>0</th>\n",
              "      <td>2714054</td>\n",
              "      <td>469662</td>\n",
              "      <td>21386</td>\n",
              "      <td>2015-10-15 08:50:56.000</td>\n",
              "      <td>597982.0</td>\n",
              "      <td>محمود آباد</td>\n",
              "      <td>1.0</td>\n",
              "    </tr>\n",
              "    <tr>\n",
              "      <th>1</th>\n",
              "      <td>11104039</td>\n",
              "      <td>3063877</td>\n",
              "      <td>248497</td>\n",
              "      <td>2018-02-11 00:29:26.000</td>\n",
              "      <td>980000.0</td>\n",
              "      <td>خرمدره</td>\n",
              "      <td>1.0</td>\n",
              "    </tr>\n",
              "    <tr>\n",
              "      <th>2</th>\n",
              "      <td>4228130</td>\n",
              "      <td>3184893</td>\n",
              "      <td>50144</td>\n",
              "      <td>2016-06-14 00:30:08.000</td>\n",
              "      <td>229358.0</td>\n",
              "      <td>قرچک</td>\n",
              "      <td>1.0</td>\n",
              "    </tr>\n",
              "    <tr>\n",
              "      <th>3</th>\n",
              "      <td>22225624</td>\n",
              "      <td>6888562</td>\n",
              "      <td>70208</td>\n",
              "      <td>2018-09-03 14:37:19.000</td>\n",
              "      <td>16514.0</td>\n",
              "      <td>قم</td>\n",
              "      <td>1.0</td>\n",
              "    </tr>\n",
              "    <tr>\n",
              "      <th>4</th>\n",
              "      <td>4068771</td>\n",
              "      <td>2533490</td>\n",
              "      <td>67627</td>\n",
              "      <td>2016-05-21 11:51:02.000</td>\n",
              "      <td>133028.0</td>\n",
              "      <td>تهران</td>\n",
              "      <td>1.0</td>\n",
              "    </tr>\n",
              "  </tbody>\n",
              "</table>\n",
              "</div>"
            ],
            "text/plain": [
              "   ID_Order  ID_Customer  ...  city_name_fa Quantity_item\n",
              "0   2714054       469662  ...    محمود آباد           1.0\n",
              "1  11104039      3063877  ...        خرمدره           1.0\n",
              "2   4228130      3184893  ...          قرچک           1.0\n",
              "3  22225624      6888562  ...            قم           1.0\n",
              "4   4068771      2533490  ...         تهران           1.0\n",
              "\n",
              "[5 rows x 7 columns]"
            ]
          },
          "metadata": {
            "tags": []
          },
          "execution_count": 37
        }
      ]
    },
    {
      "cell_type": "markdown",
      "metadata": {
        "id": "lNq50SAqLt7v"
      },
      "source": [
        "check if cities are the same"
      ]
    },
    {
      "cell_type": "code",
      "metadata": {
        "colab": {
          "base_uri": "https://localhost:8080/"
        },
        "id": "yxjp2HaVLX9u",
        "outputId": "81f109ab-ef68-4e2d-eb75-fab92821db1e"
      },
      "source": [
        "digi_cities = digikala_selected['city_name_fa'].unique()\n",
        "print(digi_cities)"
      ],
      "execution_count": null,
      "outputs": [
        {
          "output_type": "stream",
          "text": [
            "['قم' 'تهران' 'مشهد' 'اصفهان' 'کرج' 'اهواز' 'شیراز' 'کرمانشاه' 'تبریز']\n"
          ],
          "name": "stdout"
        }
      ]
    },
    {
      "cell_type": "code",
      "metadata": {
        "colab": {
          "base_uri": "https://localhost:8080/"
        },
        "id": "EE5StMLfLrxc",
        "outputId": "9c36b98f-1261-468c-80a8-da40b4795d2f"
      },
      "source": [
        "items = digikala_selected['ID_Item'].unique()\n",
        "print(items)\n",
        "len(items)"
      ],
      "execution_count": null,
      "outputs": [
        {
          "output_type": "stream",
          "text": [
            "[  70208   67627  312932 ...  881074   73378 1193629]\n"
          ],
          "name": "stdout"
        },
        {
          "output_type": "execute_result",
          "data": {
            "text/plain": [
              "74218"
            ]
          },
          "metadata": {
            "tags": []
          },
          "execution_count": 39
        }
      ]
    },
    {
      "cell_type": "code",
      "metadata": {
        "colab": {
          "base_uri": "https://localhost:8080/"
        },
        "id": "5pVtFyuFMJCq",
        "outputId": "e31b1028-0246-48f1-8de5-3e7c63699857"
      },
      "source": [
        "digikala_selected = digikala_selected[digikala_selected['ID_Item'].notna()]\n",
        "len(digikala_selected)"
      ],
      "execution_count": null,
      "outputs": [
        {
          "output_type": "execute_result",
          "data": {
            "text/plain": [
              "141900"
            ]
          },
          "metadata": {
            "tags": []
          },
          "execution_count": 40
        }
      ]
    },
    {
      "cell_type": "markdown",
      "metadata": {
        "id": "U9DrBTRCMe5j"
      },
      "source": [
        "create vectors"
      ]
    },
    {
      "cell_type": "code",
      "metadata": {
        "id": "hwN6FKPaMd93"
      },
      "source": [
        "digi_vectors = np.zeros([len(cities),len(items)])\n",
        "digi_dict = digikala_selected.to_dict(\"records\")"
      ],
      "execution_count": null,
      "outputs": []
    },
    {
      "cell_type": "code",
      "metadata": {
        "colab": {
          "base_uri": "https://localhost:8080/"
        },
        "id": "JSTtN7eZNFhY",
        "outputId": "3e15d16f-4bd7-48a0-8ca0-540889423104"
      },
      "source": [
        "print(digi_dict[0])"
      ],
      "execution_count": null,
      "outputs": [
        {
          "output_type": "stream",
          "text": [
            "{'ID_Order': 22225624, 'ID_Customer': 6888562, 'ID_Item': 70208, 'DateTime_CartFinalize': '2018-09-03 14:37:19.000', 'Amount_Gross_Order': 16514.0, 'city_name_fa': 'قم', 'Quantity_item': 1.0}\n"
          ],
          "name": "stdout"
        }
      ]
    },
    {
      "cell_type": "code",
      "metadata": {
        "id": "2-_L2TqeMvPM"
      },
      "source": [
        "for row in digi_dict:\n",
        "  item = row['ID_Item']\n",
        "  city = row['city_name_fa']\n",
        "  cityIndex = np.where(digi_cities == city)[0][0]\n",
        "  itemIndex = np.where(items == item)[0][0]\n",
        "  digi_vectors[cityIndex][itemIndex]+=1"
      ],
      "execution_count": null,
      "outputs": []
    },
    {
      "cell_type": "code",
      "metadata": {
        "colab": {
          "base_uri": "https://localhost:8080/"
        },
        "id": "UYwc9C3yN6PI",
        "outputId": "f0d6a2d7-6e67-4b13-eb39-41b229469f99"
      },
      "source": [
        "print(digi_vectors)"
      ],
      "execution_count": null,
      "outputs": [
        {
          "output_type": "stream",
          "text": [
            "[[1. 0. 0. ... 0. 0. 0.]\n",
            " [1. 3. 1. ... 1. 1. 1.]\n",
            " [0. 0. 1. ... 0. 0. 0.]\n",
            " ...\n",
            " [0. 0. 0. ... 0. 0. 0.]\n",
            " [0. 0. 0. ... 0. 0. 0.]\n",
            " [0. 0. 0. ... 0. 0. 0.]]\n"
          ],
          "name": "stdout"
        }
      ]
    },
    {
      "cell_type": "code",
      "metadata": {
        "colab": {
          "base_uri": "https://localhost:8080/",
          "height": 406
        },
        "id": "JX8A5261N7_D",
        "outputId": "8ebbd36c-a87a-404f-ac31-9a71603f4778"
      },
      "source": [
        "digi_SSE = []\n",
        "for cluster in range(1,8):\n",
        "    kmeans = KMeans(n_jobs = -1, n_clusters = cluster, init='k-means++')\n",
        "    kmeans.fit(digi_vectors)\n",
        "    digi_SSE.append(kmeans.inertia_)\n",
        "\n",
        "digi_frame = pd.DataFrame({'Cluster':range(1,8), 'SSE':digi_SSE})\n",
        "plt.figure(figsize=(12,6))\n",
        "plt.plot(digi_frame['Cluster'], digi_frame['SSE'], marker='o')\n",
        "plt.xlabel('Number of clusters')\n",
        "plt.ylabel('Inertia')"
      ],
      "execution_count": null,
      "outputs": [
        {
          "output_type": "execute_result",
          "data": {
            "text/plain": [
              "Text(0, 0.5, 'Inertia')"
            ]
          },
          "metadata": {
            "tags": []
          },
          "execution_count": 45
        },
        {
          "output_type": "display_data",
          "data": {
            "image/png": "[encoded data removed]",
            "text/plain": [
              "<Figure size 864x432 with 1 Axes>"
            ]
          },
          "metadata": {
            "tags": [],
            "needs_background": "light"
          }
        }
      ]
    },
    {
      "cell_type": "markdown",
      "metadata": {
        "id": "0z5ZiF_pMdmG"
      },
      "source": [
        "k = 4"
      ]
    },
    {
      "cell_type": "code",
      "metadata": {
        "colab": {
          "base_uri": "https://localhost:8080/"
        },
        "id": "1IdwRTXNOZhv",
        "outputId": "7a2c6ffb-c806-440d-c28f-8a4583f382fb"
      },
      "source": [
        "kmeans = KMeans(n_jobs = -1, n_clusters = 4, init='k-means++')\n",
        "kmeans.fit(digi_vectors)\n",
        "kmeans.labels_\n",
        "pred = kmeans.predict(digi_vectors)\n",
        "kmeans.cluster_centers_"
      ],
      "execution_count": null,
      "outputs": [
        {
          "output_type": "execute_result",
          "data": {
            "text/plain": [
              "array([[ 1.00000000e+00,  3.00000000e+00,  1.00000000e+00, ...,\n",
              "         1.00000000e+00,  1.00000000e+00,  1.00000000e+00],\n",
              "       [ 1.66666667e-01,  0.00000000e+00, -2.77555756e-17, ...,\n",
              "        -1.38777878e-17, -1.38777878e-17, -1.38777878e-17],\n",
              "       [ 1.00000000e+00,  0.00000000e+00,  0.00000000e+00, ...,\n",
              "         0.00000000e+00,  0.00000000e+00,  0.00000000e+00],\n",
              "       [ 0.00000000e+00,  0.00000000e+00,  1.00000000e+00, ...,\n",
              "         0.00000000e+00,  0.00000000e+00,  0.00000000e+00]])"
            ]
          },
          "metadata": {
            "tags": []
          },
          "execution_count": 56
        }
      ]
    },
    {
      "cell_type": "markdown",
      "metadata": {
        "id": "qX7isE60OtGh"
      },
      "source": [
        "final clustering results"
      ]
    },
    {
      "cell_type": "code",
      "metadata": {
        "colab": {
          "base_uri": "https://localhost:8080/"
        },
        "id": "xf1snrEIOvmF",
        "outputId": "62d3be00-b68a-4adc-e172-67c255f47536"
      },
      "source": [
        "for i in range(len(digi_cities)):\n",
        "  print(digi_cities[i], \"blongs to cluster :\", str(pred[i]))"
      ],
      "execution_count": null,
      "outputs": [
        {
          "output_type": "stream",
          "text": [
            "قم blongs to cluster : 1\n",
            "تهران blongs to cluster : 0\n",
            "مشهد blongs to cluster : 3\n",
            "اصفهان blongs to cluster : 2\n",
            "کرج blongs to cluster : 1\n",
            "اهواز blongs to cluster : 1\n",
            "شیراز blongs to cluster : 1\n",
            "کرمانشاه blongs to cluster : 1\n",
            "تبریز blongs to cluster : 1\n"
          ],
          "name": "stdout"
        }
      ]
    },
    {
      "cell_type": "markdown",
      "metadata": {
        "id": "zvMzNTeBQK0z"
      },
      "source": [
        "**Question 4**"
      ]
    },
    {
      "cell_type": "code",
      "metadata": {
        "colab": {
          "base_uri": "https://localhost:8080/"
        },
        "id": "O815SFhdQRPL",
        "outputId": "3e92f109-9efa-4496-f125-74d33e35f9d3"
      },
      "source": [
        "print(len(divar_data_org))\n",
        "divar = divar_data_org[divar_data_org.price != -1]\n",
        "print(len(divar))\n",
        "prices = divar['price'].unique()\n",
        "print(prices)\n",
        "divar = divar[divar['price'].notna()]\n",
        "divar = divar[divar['cat2'].notna()]\n",
        "print(len(divar))"
      ],
      "execution_count": null,
      "outputs": [
        {
          "output_type": "stream",
          "text": [
            "947635\n",
            "786203\n",
            "[ 3850000    30000   600000 ...  1185000 12850009 25000005]\n",
            "784931\n"
          ],
          "name": "stdout"
        }
      ]
    },
    {
      "cell_type": "code",
      "metadata": {
        "id": "47mVaItjVPqp"
      },
      "source": [
        "price_vectors = np.zeros([len(cats),len(prices)])\n",
        "divar_dict = divar.to_dict(\"records\")"
      ],
      "execution_count": null,
      "outputs": []
    },
    {
      "cell_type": "code",
      "metadata": {
        "id": "9GlslPtPV4n9"
      },
      "source": [
        "for row in divar_dict:\n",
        "  cat = row['cat2']\n",
        "  price = row['price']\n",
        "  priceIndex =np.where(prices == price)[0][0]\n",
        "  catIndex = np.where(cats == cat)[0][0]\n",
        "  price_vectors[catIndex][priceIndex]+=1"
      ],
      "execution_count": null,
      "outputs": []
    },
    {
      "cell_type": "code",
      "metadata": {
        "colab": {
          "base_uri": "https://localhost:8080/"
        },
        "id": "974PfajrYXsd",
        "outputId": "bf648b2a-e09f-4f11-825d-7ee3c5bc1da4"
      },
      "source": [
        "print(price_vectors)\n"
      ],
      "execution_count": null,
      "outputs": [
        {
          "output_type": "stream",
          "text": [
            "[[1.100e+01 3.075e+03 3.814e+03 ... 0.000e+00 0.000e+00 0.000e+00]\n",
            " [3.000e+00 3.000e+00 7.000e+00 ... 0.000e+00 1.000e+00 1.000e+00]\n",
            " [0.000e+00 5.860e+02 1.690e+02 ... 0.000e+00 0.000e+00 0.000e+00]\n",
            " ...\n",
            " [0.000e+00 2.000e+01 2.500e+01 ... 0.000e+00 0.000e+00 0.000e+00]\n",
            " [0.000e+00 1.200e+01 8.000e+00 ... 0.000e+00 0.000e+00 0.000e+00]\n",
            " [0.000e+00 3.100e+01 3.000e+00 ... 0.000e+00 0.000e+00 0.000e+00]]\n"
          ],
          "name": "stdout"
        }
      ]
    },
    {
      "cell_type": "code",
      "metadata": {
        "colab": {
          "base_uri": "https://localhost:8080/",
          "height": 417
        },
        "id": "UKECz3LzYh5e",
        "outputId": "cd8ec839-c654-4f31-8ab5-cefc7892c99c"
      },
      "source": [
        "divar_SSE = []\n",
        "for cluster in range(1,29):\n",
        "    kmeans = KMeans(n_jobs = -1, n_clusters = cluster, init='k-means++')\n",
        "    kmeans.fit(price_vectors)\n",
        "    divar_SSE.append(kmeans.inertia_)\n",
        "\n",
        "digi_frame = pd.DataFrame({'Cluster':range(1,29), 'SSE':divar_SSE})\n",
        "plt.figure(figsize=(12,6))\n",
        "plt.plot(digi_frame['Cluster'], digi_frame['SSE'], marker='o')\n",
        "plt.xlabel('Number of clusters')\n",
        "plt.ylabel('Inertia')"
      ],
      "execution_count": null,
      "outputs": [
        {
          "output_type": "execute_result",
          "data": {
            "text/plain": [
              "Text(0, 0.5, 'Inertia')"
            ]
          },
          "metadata": {
            "tags": []
          },
          "execution_count": 73
        },
        {
          "output_type": "display_data",
          "data": {
            "image/png": "[encoded data removed]",
            "text/plain": [
              "<Figure size 864x432 with 1 Axes>"
            ]
          },
          "metadata": {
            "tags": [],
            "needs_background": "light"
          }
        }
      ]
    },
    {
      "cell_type": "markdown",
      "metadata": {
        "id": "0ORZUaMxY4a7"
      },
      "source": [
        "k = 6"
      ]
    },
    {
      "cell_type": "code",
      "metadata": {
        "colab": {
          "base_uri": "https://localhost:8080/"
        },
        "id": "D6HZYQ7tYzM8",
        "outputId": "510360dd-0e11-4224-ee44-118a306135e0"
      },
      "source": [
        "kmeans = KMeans(n_jobs = -1, n_clusters = 6, init='k-means++')\n",
        "kmeans.fit(price_vectors)\n",
        "kmeans.labels_\n",
        "pred = kmeans.predict(price_vectors)\n",
        "kmeans.cluster_centers_\n",
        "print(len(pred))"
      ],
      "execution_count": null,
      "outputs": [
        {
          "output_type": "stream",
          "text": [
            "28\n"
          ],
          "name": "stdout"
        }
      ]
    },
    {
      "cell_type": "code",
      "metadata": {
        "colab": {
          "base_uri": "https://localhost:8080/"
        },
        "id": "IxwI59VRZAls",
        "outputId": "04f2662e-6afd-4cb0-fca9-0666e87a266c"
      },
      "source": [
        "for i in range(len(cats)):\n",
        "  print(cats[i], \"blongs to cluster :\", str(pred[i]))"
      ],
      "execution_count": null,
      "outputs": [
        {
          "output_type": "stream",
          "text": [
            "furniture-and-home-decore blongs to cluster : 1\n",
            "cars blongs to cluster : 3\n",
            "baby-and-toys blongs to cluster : 5\n",
            "parts-accessories blongs to cluster : 2\n",
            "utensils-and-appliances blongs to cluster : 2\n",
            "clothing-and-shoes blongs to cluster : 4\n",
            "mobile-tablet blongs to cluster : 2\n",
            "childrens-clothing-and-shoe blongs to cluster : 0\n",
            "game-consoles-and-video-games blongs to cluster : 5\n",
            "audio-video blongs to cluster : 5\n",
            "building-and-garden blongs to cluster : 5\n",
            "jewelry-and-watches blongs to cluster : 0\n",
            "equipments-and-machinery blongs to cluster : 5\n",
            "bicycle blongs to cluster : 0\n",
            "animals blongs to cluster : 2\n",
            "nan blongs to cluster : 0\n",
            "batch blongs to cluster : 0\n",
            "musical-instruments blongs to cluster : 0\n",
            "health-beauty blongs to cluster : 0\n",
            "motorcycles blongs to cluster : 0\n",
            "computers blongs to cluster : 5\n",
            "sport-leisure blongs to cluster : 0\n",
            "book-student-literature blongs to cluster : 0\n",
            "utility blongs to cluster : 0\n",
            "travel-packages blongs to cluster : 0\n",
            "hobby-collectibles blongs to cluster : 0\n",
            "leisure-hobbies-toys blongs to cluster : 0\n",
            "phone blongs to cluster : 0\n"
          ],
          "name": "stdout"
        }
      ]
    }
  ]
}